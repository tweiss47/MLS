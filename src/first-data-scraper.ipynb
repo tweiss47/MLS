{
 "cells": [
  {
   "cell_type": "markdown",
   "metadata": {},
   "source": [
    "# First Data Scraper Notes\n",
    "\n",
    "For the past few weeks I've been learning various data wrangling python libraries (pandas, numpy, matplotlib, etc.). And it is the middle of the MLS soccer season, so I've been making occasional posts on [Sounder at Heart](https://www.sounderatheart.com/). \n",
    "\n",
    "So both some intellectual curiosity and a need to overanalyze my favorite sports team led me on a search for raw MLS soccer data. But I couldn't find anything in the public domain that was suitable for direct monkeying around on. So I decided to build my own data set.\n",
    "\n",
    "Here are some notes on the first part of that journey."
   ]
  },
  {
   "cell_type": "markdown",
   "metadata": {},
   "source": [
    "The following header block includes the modules needed to do the scraping.\n",
    "* [requests](http://docs.python-requests.org/en/master/) is s simple HTTP client library suitable for grabbing data from the web.\n",
    "* [BeautifulSoup](https://www.crummy.com/software/BeautifulSoup/bs4/doc/) parses HTML and provides simeple ways to access the node tree."
   ]
  },
  {
   "cell_type": "code",
   "execution_count": 1,
   "metadata": {},
   "outputs": [],
   "source": [
    "import pandas as pd\n",
    "import requests\n",
    "from bs4 import BeautifulSoup"
   ]
  },
  {
   "cell_type": "code",
   "execution_count": 9,
   "metadata": {},
   "outputs": [],
   "source": [
    "import mlsutil"
   ]
  },
  {
   "cell_type": "code",
   "execution_count": 3,
   "metadata": {},
   "outputs": [
    {
     "data": {
      "text/plain": [
       "'../raw/standings-ss-2014.html'"
      ]
     },
     "execution_count": 3,
     "metadata": {},
     "output_type": "execute_result"
    }
   ],
   "source": [
    "year = '2014'\n",
    "standings_file_path = '../raw/standings-ss-{}.html'.format(year)\n",
    "standings_file_path"
   ]
  },
  {
   "cell_type": "code",
   "execution_count": 6,
   "metadata": {},
   "outputs": [],
   "source": [
    "# download the html to the raw data path\n",
    "statndings_ss_url = 'https://www.mlssoccer.com/standings/supporters-shield/{}/'.format(year)\n",
    "r = requests.get(statndings_ss_url)\n",
    "with open(standings_file_path, 'w', encoding='utf-8') as f:\n",
    "    f.write(r.text)\n"
   ]
  },
  {
   "cell_type": "code",
   "execution_count": 55,
   "metadata": {},
   "outputs": [
    {
     "data": {
      "text/plain": [
       "1"
      ]
     },
     "execution_count": 55,
     "metadata": {},
     "output_type": "execute_result"
    }
   ],
   "source": [
    "# open up the html file and get a reference to any tables\n",
    "with open(standings_file_path) as f:\n",
    "    soup = BeautifulSoup(f, 'lxml')\n",
    "    \n",
    "table_elements = soup.find_all('table')\n",
    "len(table_elements)"
   ]
  },
  {
   "cell_type": "code",
   "execution_count": 56,
   "metadata": {},
   "outputs": [],
   "source": [
    "# just assume there is only one\n",
    "table_element = table_elements[0]"
   ]
  },
  {
   "cell_type": "code",
   "execution_count": 57,
   "metadata": {},
   "outputs": [],
   "source": [
    "# fixup the standings table so that it can be converted using our generic table converter\n",
    "\n",
    "# remove the first row, it is a secondary level header row\n",
    "table_element.tr.extract()\n",
    "\n",
    "# convert the first row in the table to hold th rather than td elements\n",
    "for tag in table_element.tr.find_all('td'):\n",
    "    tag.name = 'th'\n",
    "    \n",
    "# the Club column includes spans for mobile which erratically abreviate the team name\n",
    "# so clear those spans\n",
    "bad_spans = table_element.select('.show-on-mobile-inline')\n",
    "for span in bad_spans:\n",
    "    span.clear()"
   ]
  },
  {
   "cell_type": "code",
   "execution_count": 62,
   "metadata": {},
   "outputs": [
    {
     "data": {
      "text/html": [
       "<div>\n",
       "<style scoped>\n",
       "    .dataframe tbody tr th:only-of-type {\n",
       "        vertical-align: middle;\n",
       "    }\n",
       "\n",
       "    .dataframe tbody tr th {\n",
       "        vertical-align: top;\n",
       "    }\n",
       "\n",
       "    .dataframe thead th {\n",
       "        text-align: right;\n",
       "    }\n",
       "</style>\n",
       "<table border=\"1\" class=\"dataframe\">\n",
       "  <thead>\n",
       "    <tr style=\"text-align: right;\">\n",
       "      <th></th>\n",
       "      <th>#</th>\n",
       "      <th>Club</th>\n",
       "      <th>PTS</th>\n",
       "      <th>PPG</th>\n",
       "      <th></th>\n",
       "      <th>GP</th>\n",
       "      <th>W</th>\n",
       "      <th>L</th>\n",
       "      <th>T</th>\n",
       "      <th>GF</th>\n",
       "      <th>GA</th>\n",
       "      <th>GD</th>\n",
       "      <th></th>\n",
       "      <th>W-L-T</th>\n",
       "      <th></th>\n",
       "      <th>W-L-T</th>\n",
       "    </tr>\n",
       "  </thead>\n",
       "  <tbody>\n",
       "    <tr>\n",
       "      <th>0</th>\n",
       "      <td>1</td>\n",
       "      <td>Seattle Sounders FC</td>\n",
       "      <td>64</td>\n",
       "      <td>1.88</td>\n",
       "      <td></td>\n",
       "      <td>34</td>\n",
       "      <td>20</td>\n",
       "      <td>10</td>\n",
       "      <td>4</td>\n",
       "      <td>65</td>\n",
       "      <td>50</td>\n",
       "      <td>15</td>\n",
       "      <td></td>\n",
       "      <td>12-4-1</td>\n",
       "      <td></td>\n",
       "      <td>8-6-3</td>\n",
       "    </tr>\n",
       "    <tr>\n",
       "      <th>1</th>\n",
       "      <td>2</td>\n",
       "      <td>LA Galaxy</td>\n",
       "      <td>61</td>\n",
       "      <td>1.79</td>\n",
       "      <td></td>\n",
       "      <td>34</td>\n",
       "      <td>17</td>\n",
       "      <td>7</td>\n",
       "      <td>10</td>\n",
       "      <td>69</td>\n",
       "      <td>37</td>\n",
       "      <td>32</td>\n",
       "      <td></td>\n",
       "      <td>12-1-4</td>\n",
       "      <td></td>\n",
       "      <td>5-6-6</td>\n",
       "    </tr>\n",
       "    <tr>\n",
       "      <th>2</th>\n",
       "      <td>3</td>\n",
       "      <td>D.C. United</td>\n",
       "      <td>59</td>\n",
       "      <td>1.74</td>\n",
       "      <td></td>\n",
       "      <td>34</td>\n",
       "      <td>17</td>\n",
       "      <td>9</td>\n",
       "      <td>8</td>\n",
       "      <td>52</td>\n",
       "      <td>37</td>\n",
       "      <td>15</td>\n",
       "      <td></td>\n",
       "      <td>11-2-4</td>\n",
       "      <td></td>\n",
       "      <td>6-7-4</td>\n",
       "    </tr>\n",
       "    <tr>\n",
       "      <th>3</th>\n",
       "      <td>4</td>\n",
       "      <td>Real Salt Lake</td>\n",
       "      <td>56</td>\n",
       "      <td>1.65</td>\n",
       "      <td></td>\n",
       "      <td>34</td>\n",
       "      <td>15</td>\n",
       "      <td>8</td>\n",
       "      <td>11</td>\n",
       "      <td>54</td>\n",
       "      <td>39</td>\n",
       "      <td>15</td>\n",
       "      <td></td>\n",
       "      <td>11-1-5</td>\n",
       "      <td></td>\n",
       "      <td>4-7-6</td>\n",
       "    </tr>\n",
       "    <tr>\n",
       "      <th>4</th>\n",
       "      <td>5</td>\n",
       "      <td>New England Revolution</td>\n",
       "      <td>55</td>\n",
       "      <td>1.62</td>\n",
       "      <td></td>\n",
       "      <td>34</td>\n",
       "      <td>17</td>\n",
       "      <td>13</td>\n",
       "      <td>4</td>\n",
       "      <td>51</td>\n",
       "      <td>46</td>\n",
       "      <td>5</td>\n",
       "      <td></td>\n",
       "      <td>11-4-2</td>\n",
       "      <td></td>\n",
       "      <td>6-9-2</td>\n",
       "    </tr>\n",
       "  </tbody>\n",
       "</table>\n",
       "</div>"
      ],
      "text/plain": [
       "   #                    Club PTS   PPG    GP   W   L   T  GF  GA  GD    \\\n",
       "0  1     Seattle Sounders FC  64  1.88    34  20  10   4  65  50  15     \n",
       "1  2               LA Galaxy  61  1.79    34  17   7  10  69  37  32     \n",
       "2  3             D.C. United  59  1.74    34  17   9   8  52  37  15     \n",
       "3  4          Real Salt Lake  56  1.65    34  15   8  11  54  39  15     \n",
       "4  5  New England Revolution  55  1.62    34  17  13   4  51  46   5     \n",
       "\n",
       "    W-L-T    W-L-T  \n",
       "0  12-4-1    8-6-3  \n",
       "1  12-1-4    5-6-6  \n",
       "2  11-2-4    6-7-4  \n",
       "3  11-1-5    4-7-6  \n",
       "4  11-4-2    6-9-2  "
      ]
     },
     "execution_count": 62,
     "metadata": {},
     "output_type": "execute_result"
    }
   ],
   "source": [
    "# import the data into a DataFrame\n",
    "\n",
    "# alas, our simple code to do this which worked for the team standings doesn't work as well here\n",
    "df = mlsutil.table_to_dataframe(table_element)\n",
    "df.head()"
   ]
  },
  {
   "cell_type": "code",
   "execution_count": 29,
   "metadata": {},
   "outputs": [],
   "source": [
    "# save out the data frame \n",
    "team_stats_datafile_path = \"../data/team-stats-{}.csv\".format(year)\n",
    "df.to_csv(team_stats_datafile_path)"
   ]
  },
  {
   "cell_type": "markdown",
   "metadata": {},
   "source": [
    "Table Key\n",
    "\n",
    "GP: Games Played, GS: Games Started, G: Goals, MIN: Minutes Played, A: Assists, SHT: Shots, SOG: Shots on Goal, FC: Fouls Committed, FS: Fouls Suffered, Y: Yellow Cards, R: Red Cards, GF: Goals For, GA: Goals Against, SO: Shutouts, SV: Saves, CK: Corner Kicks, PKA: Penalty Kick Attempts, PKG: Penalty Kick Goals, PKS: Penalty Kick Saves, OFF: Offsides"
   ]
  }
 ],
 "metadata": {
  "kernelspec": {
   "display_name": "Python [conda env:anaconda3]",
   "language": "python",
   "name": "conda-env-anaconda3-py"
  },
  "language_info": {
   "codemirror_mode": {
    "name": "ipython",
    "version": 3
   },
   "file_extension": ".py",
   "mimetype": "text/x-python",
   "name": "python",
   "nbconvert_exporter": "python",
   "pygments_lexer": "ipython3",
   "version": "3.6.6"
  }
 },
 "nbformat": 4,
 "nbformat_minor": 2
}
